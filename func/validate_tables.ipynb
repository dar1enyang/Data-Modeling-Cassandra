{
 "cells": [
  {
   "cell_type": "code",
   "execution_count": 1,
   "metadata": {},
   "outputs": [],
   "source": [
    "import cassandra\n",
    "import sys\n",
    "sys.path.append('..')\n",
    "from query.nosql_queries import *\n",
    "from cassandra.cluster import Cluster"
   ]
  },
  {
   "cell_type": "code",
   "execution_count": 2,
   "metadata": {
    "scrolled": true
   },
   "outputs": [
    {
     "name": "stderr",
     "output_type": "stream",
     "text": [
      "WARNING:cassandra.cluster:Cluster.__init__ called with contact_points specified, but no load_balancing_policy. In the next major version, this will raise an error; please specify a load-balancing policy. (contact_points = ['127.0.0.1'], lbp = None)\n"
     ]
    }
   ],
   "source": [
    "cluster = Cluster(['127.0.0.1'])\n",
    "session = cluster.connect()\n",
    "session.set_keyspace('darien_cassandra')"
   ]
  },
  {
   "cell_type": "markdown",
   "metadata": {},
   "source": [
    "# Validating if tables created correctly"
   ]
  },
  {
   "cell_type": "code",
   "execution_count": 3,
   "metadata": {},
   "outputs": [
    {
     "name": "stdout",
     "output_type": "stream",
     "text": [
      "Artist: Faithless\tSong: Music Matters (Mark Knight Dub)\tLength: 495.30731201171875\n"
     ]
    }
   ],
   "source": [
    "try:\n",
    "    rows = session.execute(session_info_find %(338, 4))\n",
    "except Exception as e:\n",
    "    print(e)\n",
    "for row in rows:\n",
    "    print(\"Artist: %s\\tSong: %s\\tLength: %s\" % (row.artist, row.song, row.length))"
   ]
  },
  {
   "cell_type": "markdown",
   "metadata": {},
   "source": [
    "#### Successfully created the table with artist, song title and song's length\n",
    "\n",
    "Data is distributed evenly by the unique primary key(pair of sessionId & itemInSession) "
   ]
  },
  {
   "cell_type": "code",
   "execution_count": 6,
   "metadata": {
    "scrolled": true
   },
   "outputs": [
    {
     "name": "stdout",
     "output_type": "stream",
     "text": [
      "User: Sylvie Cruz\tItems in session: 3\tArtist: Lonnie Gordon\tSong: Catch You Baby (Steve Pitron & Max Sanna Radio Edit)\n",
      "User: Sylvie Cruz\tItems in session: 2\tArtist: Sebastien Tellier\tSong: Kilometer\n",
      "User: Sylvie Cruz\tItems in session: 1\tArtist: Three Drives\tSong: Greece 2000\n",
      "User: Sylvie Cruz\tItems in session: 0\tArtist: Down To The Bone\tSong: Keep On Keepin' On\n"
     ]
    }
   ],
   "source": [
    "try:\n",
    "    rows = session.execute(user_activity_find %(10, 182))\n",
    "except Exception as e:\n",
    "    print(e)\n",
    "for row in rows:\n",
    "    print(\"User: %s %s\\tItems in session: %s\\tArtist: %s\\tSong: %s\" %(row.firstname, row.lastname , row.iteminsession, row.artist, row.song))"
   ]
  },
  {
   "cell_type": "markdown",
   "metadata": {},
   "source": [
    "#### Successfully created the table with artist, song(sorted by itemInSession), and user name\n",
    "\n",
    "Data is distributed evenly by the unique primary key(pair of userId & sessionId & itemInSessionn) and ordered by colustering columns(sessionId ASC, itemInSession DESC)"
   ]
  },
  {
   "cell_type": "code",
   "execution_count": 8,
   "metadata": {},
   "outputs": [
    {
     "name": "stdout",
     "output_type": "stream",
     "text": [
      "User: (29) Jacqueline Lynch\n",
      "User: (80) Tegan Levine\n",
      "User: (95) Sara Johnson\n"
     ]
    }
   ],
   "source": [
    "try:\n",
    "    rows = session.execute(user_history_find , ('All Hands Against His Own',))\n",
    "except Exception as e:\n",
    "    print(e)\n",
    "for row in rows:\n",
    "    print(\"User: (%s) %s %s\" % (row.userid, row.firstname, row.lastname))"
   ]
  },
  {
   "cell_type": "markdown",
   "metadata": {},
   "source": [
    "#### Successfully created the table with every user information in the music app history who listened to the song 'All Hands Against His Own' ordered by user_Id\n",
    "\n",
    "Data is distributed evenly by the unique primary key(pair of song & userId) and ordered by colustering column(userId)"
   ]
  },
  {
   "cell_type": "code",
   "execution_count": 10,
   "metadata": {},
   "outputs": [],
   "source": [
    "# Close the session and cluster connection\n",
    "session.shutdown()\n",
    "cluster.shutdown()"
   ]
  },
  {
   "cell_type": "code",
   "execution_count": null,
   "metadata": {},
   "outputs": [],
   "source": []
  }
 ],
 "metadata": {
  "kernelspec": {
   "display_name": "Python 3",
   "language": "python",
   "name": "python3"
  },
  "language_info": {
   "codemirror_mode": {
    "name": "ipython",
    "version": 3
   },
   "file_extension": ".py",
   "mimetype": "text/x-python",
   "name": "python",
   "nbconvert_exporter": "python",
   "pygments_lexer": "ipython3",
   "version": "3.7.3"
  }
 },
 "nbformat": 4,
 "nbformat_minor": 2
}
